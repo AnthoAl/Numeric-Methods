{
 "cells": [
  {
   "cell_type": "markdown",
   "id": "daa9dcb5",
   "metadata": {},
   "source": [
    "# Taller 01\n",
    "\n",
    "Estudiante: Anthony Alangasí\n",
    "Grupo: GR1CC\n",
    "Fecha: 14/10/25\n",
    "\n",
    "## Ejercicio 1\n",
    "La sumatoria $1 + 1/2 +1/4 +1/8 ... $ tal que el error absoluto $e_{abs} < 10^{-1}$."
   ]
  },
  {
   "cell_type": "code",
   "execution_count": 1,
   "id": "6ae0a2b5",
   "metadata": {},
   "outputs": [
    {
     "name": "stdout",
     "output_type": "stream",
     "text": [
      "Suma de valores: 1.9375\n",
      "Número de terminos usados: 5\n",
      "Error absoluto obtenido: 0.0625\n"
     ]
    }
   ],
   "source": [
    "error = 1\n",
    "num_terminos = 0\n",
    "suma = 0\n",
    "\n",
    "while error >= 0.1:\n",
    "    suma += (1/2)**num_terminos\n",
    "    num_terminos += 1\n",
    "    error = abs(2 - suma)\n",
    "\n",
    "print(f\"Suma de valores: {suma:.4f}\")\n",
    "print(f\"Número de terminos usados: {num_terminos}\")\n",
    "print(f\"Error absoluto obtenido: {error:.4f}\")"
   ]
  },
  {
   "cell_type": "markdown",
   "id": "8a5dfe43",
   "metadata": {},
   "source": [
    "## Ejercicio 2 (Bubble sort)\n",
    "![alt text](alg1.png)\n",
    "Casos de prueba:\n",
    "* $v_1=[3, 2, 5, 8, 4, 1]$\n",
    "* $v_2=[-1, 0, 4, 5, 6, 7]$\n",
    "* $v_3$ 100_000 número aleatorios entre -200 y 145.\n",
    "* Verificar el numero de iteraciones para el ordenamiento en cada caso"
   ]
  },
  {
   "cell_type": "code",
   "execution_count": null,
   "id": "2ef4375b",
   "metadata": {},
   "outputs": [
    {
     "name": "stdout",
     "output_type": "stream",
     "text": [
      "Vector ordenado v1:  [1, 2, 3, 4, 5, 8]\n",
      "Número de iteraciones:  8\n"
     ]
    }
   ],
   "source": [
    "def swap(v1,j):\n",
    "    v1[j], v1[j - 1] = v1[j-1],v1[j]\n",
    "    return v1\n",
    "\n",
    "contador = 0\n",
    "\n",
    "v1 = [3,2,5,8,4,1]\n",
    "for i in range(len(v1)):\n",
    "    swapped = False\n",
    "    for j in range(1,len(v1)-i):\n",
    "        if (v1[j] < v1[j-1]):\n",
    "            swap(v1,j)\n",
    "            swapped = True\n",
    "            contador += 1\n",
    "    \n",
    "    if not(swapped):\n",
    "        break\n",
    "        \n",
    "print(\"Vector ordenado v1: \", v1)\n",
    "print(\"Número de iteraciones: \", contador)"
   ]
  },
  {
   "cell_type": "code",
   "execution_count": 7,
   "id": "13538352",
   "metadata": {},
   "outputs": [
    {
     "name": "stdout",
     "output_type": "stream",
     "text": [
      "Vector ordenado v2:  [-1, 0, 4, 5, 6, 7]\n",
      "Número de iteraciones:  10\n"
     ]
    }
   ],
   "source": [
    "def swap(v2,j):\n",
    "    v2[j], v2[j - 1] = v2[j-1],v2[j]\n",
    "    return v2\n",
    "\n",
    "contador = 0\n",
    "\n",
    "v2 = [7,0,5,4,6,-1]\n",
    "for i in range(len(v2)):\n",
    "    swapped = False\n",
    "    for j in range(1,len(v2)-i):\n",
    "        if (v2[j] < v2[j-1]):\n",
    "            swap(v2,j)\n",
    "            swapped = True\n",
    "            contador += 1\n",
    "    \n",
    "    if not(swapped):\n",
    "        break\n",
    "        \n",
    "print(\"Vector ordenado v2: \", v2)\n",
    "print(\"Número de iteraciones: \", contador)"
   ]
  },
  {
   "cell_type": "code",
   "execution_count": 8,
   "id": "ad385058",
   "metadata": {},
   "outputs": [
    {
     "name": "stdout",
     "output_type": "stream",
     "text": [
      "Primeros 20 elementos ordenados: [-200, -200, -200, -200, -200, -200, -200, -200, -200, -200, -200, -200, -200, -200, -200, -200, -200, -200, -200, -200]\n",
      "Número de iteraciones:  25114277\n"
     ]
    }
   ],
   "source": [
    "import random\n",
    "\n",
    "def swap(v3,j):\n",
    "    v3[j], v3[j - 1] = v3[j-1],v3[j]\n",
    "    return v3\n",
    "\n",
    "v3 = [random.randint(-200, 145) for _ in range(10000)]\n",
    "contador = 0\n",
    "\n",
    "for i in range(len(v3)):\n",
    "    swapped = False\n",
    "    for j in range(1,len(v3)-i):\n",
    "        if (v3[j] < v3[j-1]):\n",
    "            swap(v3,j)\n",
    "            swapped = True\n",
    "            contador += 1\n",
    "    \n",
    "    if not(swapped):\n",
    "        break\n",
    "        \n",
    "print(\"Primeros 20 elementos ordenados:\", v3[:20])\n",
    "print(\"Número de iteraciones: \", contador)"
   ]
  },
  {
   "cell_type": "markdown",
   "id": "2e98fa46",
   "metadata": {},
   "source": [
    "# Algoritmo 3 - Serie de Fibbonacci\n",
    "\n",
    "![alt text](alg3.png)\n",
    "\n",
    "Casos de prueba:\n",
    "* $n= 11$\n",
    "* $n= 84$\n",
    "* $n= 1531$"
   ]
  },
  {
   "cell_type": "code",
   "execution_count": 9,
   "id": "129af9e5",
   "metadata": {},
   "outputs": [
    {
     "name": "stdout",
     "output_type": "stream",
     "text": [
      "Numero de iteraciones:  11 \n",
      "Valor obtenido:  89\n"
     ]
    }
   ],
   "source": [
    "def fibonacci(n):\n",
    "    if n == 0:\n",
    "        return 0\n",
    "    else:\n",
    "        x = 0\n",
    "        y = 1\n",
    "        for i in range(n-1):\n",
    "            z = x + y\n",
    "            x = y\n",
    "            y = z\n",
    "    \n",
    "    return y\n",
    "\n",
    "n = 11\n",
    "print(\"Numero de iteraciones: \" ,n, \"\\nValor obtenido: \", (fibonacci(n)))"
   ]
  },
  {
   "cell_type": "code",
   "execution_count": 10,
   "id": "826819fa",
   "metadata": {},
   "outputs": [
    {
     "name": "stdout",
     "output_type": "stream",
     "text": [
      "Numero de iteraciones:  84 \n",
      "Valor obtenido:  160500643816367088\n"
     ]
    }
   ],
   "source": [
    "def fibonacci(n):\n",
    "    if n == 0:\n",
    "        return 0\n",
    "    else:\n",
    "        x = 0\n",
    "        y = 1\n",
    "        for i in range(n-1):\n",
    "            z = x + y\n",
    "            x = y\n",
    "            y = z\n",
    "    \n",
    "    return y\n",
    "\n",
    "n = 84\n",
    "print(\"Numero de iteraciones: \" ,n, \"\\nValor obtenido: \", (fibonacci(n)))"
   ]
  },
  {
   "cell_type": "code",
   "execution_count": 11,
   "id": "fc787001",
   "metadata": {},
   "outputs": [
    {
     "name": "stdout",
     "output_type": "stream",
     "text": [
      "Numero de iteraciones:  1531 \n",
      "Valor obtenido:  40793617605237766910177891101532305954169356679469251968012246320785442201399010062608120133898796842159214701491227645296640251351118097414452512943377923944240851901342511998321837317687231200181404989351498771613091128609066442842273029931595972451439617557382711759593384278734694858010024767646023157013418593547269\n"
     ]
    }
   ],
   "source": [
    "def fibonacci(n):\n",
    "    if n == 0:\n",
    "        return 0\n",
    "    else:\n",
    "        x = 0\n",
    "        y = 1\n",
    "        for i in range(n-1):\n",
    "            z = x + y\n",
    "            x = y\n",
    "            y = z\n",
    "    \n",
    "    return y\n",
    "\n",
    "n = 1531\n",
    "print(\"Numero de iteraciones: \" ,n, \"\\nValor obtenido: \", (fibonacci(n)))"
   ]
  },
  {
   "cell_type": "markdown",
   "id": "0ccae0d2",
   "metadata": {},
   "source": [
    "## Graficar!\n",
    "* El valor de la serie $fib(n)$"
   ]
  },
  {
   "cell_type": "code",
   "execution_count": null,
   "id": "f1a435dd",
   "metadata": {},
   "outputs": [
    {
     "name": "stdout",
     "output_type": "stream",
     "text": [
      "Número de iteraciones: 15\n",
      "Serie obtenida: [0, 1, 1, 2, 3, 5, 8, 13, 21, 34, 55, 89, 144, 233, 377]\n",
      "Último valor: 377\n"
     ]
    },
    {
     "data": {
      "image/png": "[encoded data removed]",
      "text/plain": [
       "<Figure size 800x400 with 1 Axes>"
      ]
     },
     "metadata": {},
     "output_type": "display_data"
    }
   ],
   "source": [
    "import matplotlib.pyplot as plt\n",
    "\n",
    "def fibonacci(n):\n",
    "    if n == 0:\n",
    "        return [0]   \n",
    "    else:\n",
    "        x = 0\n",
    "        y = 1\n",
    "        secuencia = [x, y]  \n",
    "        \n",
    "        for i in range(n-2):  \n",
    "            z = x + y\n",
    "            x = y\n",
    "            y = z\n",
    "            secuencia.append(y)  \n",
    "    \n",
    "    return secuencia  \n",
    "\n",
    "n = 15\n",
    "secuencia_fib = fibonacci(n)\n",
    "\n",
    "print(\"Número de iteraciones:\", n)\n",
    "print(\"Serie obtenida:\", secuencia_fib)\n",
    "\n",
    "plt.figure(figsize=(8, 4))\n",
    "plt.plot(secuencia_fib, marker='o', linestyle='-', color='b')\n",
    "plt.title('Serie de Fibonacci')\n",
    "plt.xlabel('Índice')\n",
    "plt.ylabel('Valor')\n",
    "plt.grid(True)\n",
    "plt.show()"
   ]
  }
 ],
 "metadata": {
  "kernelspec": {
   "display_name": "Python 3",
   "language": "python",
   "name": "python3"
  },
  "language_info": {
   "codemirror_mode": {
    "name": "ipython",
    "version": 3
   },
   "file_extension": ".py",
   "mimetype": "text/x-python",
   "name": "python",
   "nbconvert_exporter": "python",
   "pygments_lexer": "ipython3",
   "version": "3.12.7"
  }
 },
 "nbformat": 4,
 "nbformat_minor": 5
}
